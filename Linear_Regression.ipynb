{
  "cells": [
    {
      "cell_type": "markdown",
      "metadata": {
        "id": "view-in-github",
        "colab_type": "text"
      },
      "source": [
        "<a href=\"https://colab.research.google.com/github/piziomo/Data-Science/blob/main/Linear_Regression.ipynb\" target=\"_parent\"><img src=\"https://colab.research.google.com/assets/colab-badge.svg\" alt=\"Open In Colab\"/></a>"
      ]
    },
    {
      "cell_type": "markdown",
      "metadata": {
        "id": "avEiEvmtcRou"
      },
      "source": [
        "# Lab: Regressions\n",
        "\n",
        "In this lab, inspired by @igual_regression_2017, we will introduce simple linear regression in Python to try to answer the question: _Has there been a decrease in the amount of ice in the last years?_ To do so, we are going to use `Scikit Learn`, a machine learning library, and the [Sea Ice Index Daily and Monthly Image Viewer](https://nsidc.org/data/seaice_index) dataset from the National Snow and Ice Data Center.\n",
        "\n"
      ]
    },
    {
      "cell_type": "markdown",
      "metadata": {
        "id": "lEFntJAYcRov"
      },
      "source": [
        "## Key concepts' refresher\n",
        "\n",
        "Let's refresh some theoretical concepts to understand what we are going to do.\n",
        "\n",
        "### Simple and Multiple Linear Regression\n",
        "\n",
        "In the **linear model** the response $\\textbf{y}$ depends linearly from the covariates $\\textbf{x}_i$.\n",
        "\n",
        "In the **simple** linear regression, with a single variable, we described the relationship between the predictor and the response with a straight line. The general linear model:\n",
        "$$ \\textbf{y}  =  a_0+ a_1 \\textbf{x}_1 $$\n",
        "\n",
        "The parameter $a_0$ is called the *constant* term or the *intercept*.\n",
        "\n",
        "In the case of **multiple** linear regression we extend this idea by fitting a m-dimensional hyperplane to our m predictors.\n",
        "\n",
        "$$ \\textbf{y}  =  a_1 \\textbf{x}_1  + \\dots + a_m \\textbf{x}_{m} $$\n",
        "\n",
        "The $a_i$ are termed the *parameters* of the model or the coefficients.\n",
        "\n",
        "### Ordinary Least Squares\n",
        "\n",
        "Ordinary Least Squares (OLS) is the simplest and most common **estimator** in which the coefficients $a$'s\n",
        "of the simple linear regression: $\\textbf{y} = a_0+a_1 \\textbf{x}$,\n",
        "are chosen to minimize the **square of the distance between the predicted values and the actual values**.\n",
        "\n",
        "$$ ||a_0 + a_1 \\textbf{x} -  \\textbf{y} ||^2_2 = \\sum_{j=1}^n (a_0+a_1 x_{j} -  y_j )^2,$$\n",
        "\n",
        "This expression is often called **sum of squared errors of prediction (SSE)**."
      ]
    },
    {
      "cell_type": "markdown",
      "metadata": {
        "id": "iQ45UcovcRow"
      },
      "source": [
        "## Case study: Climate Change and Sea Ice Extent\n",
        "\n",
        "Remember, we are trying to answer the following research question: _Has there been a decrease in the amount of ice in the last years?_\n",
        "\n",
        "### Data assessment\n",
        "\n",
        "First, let's load the `SeaIce.txt` dataset that is already in the `data` folder[^seaice]. It is a text file, but unlike `csv` files, where columns are separated by commas (`,`), it is a `Tab` separated file, where each `Tab` delimites the following columns:\n",
        "\n",
        "- `Year`:\t4-digit year\n",
        "- `mo`:\t1- or 2-digit month\n",
        "- `data_type`:\tInput data set (Goddard/NRTSI-G)\n",
        "- `region`:\tHemisphere that this data covers (N: Northern; S: Southern)\n",
        "- `extent`:\tSea ice extent in millions of square km\n",
        "- `area`:\tSea ice area in millions of square km\n",
        "\n",
        "Once we upload the data, we can create a `DataFrame` using Pandas using the well known `read_csv()` function, but in this case, because columns are not separated by commas as expected, but Tabs, we will need to use the `delim_whitespace=True` argument.\n",
        "\n",
        "[^seaice]: The original dataset was downloaded from <https://nsidc.org/data/g02135/versions/3>, which provides useful metadata information, as well as API services.\n"
      ]
    },
    {
      "cell_type": "code",
      "execution_count": null,
      "metadata": {
        "id": "XUDeVFyEcRow"
      },
      "outputs": [],
      "source": [
        "import warnings\n",
        "warnings.filterwarnings('ignore')\n",
        "\n",
        "import pandas as pd\n",
        "ice = pd.read_csv('data/raw/SeaIce.txt', delim_whitespace=True)\n",
        "\n",
        "ice.info()"
      ]
    },
    {
      "cell_type": "code",
      "execution_count": null,
      "metadata": {
        "id": "BpnuPmPtcRox"
      },
      "outputs": [],
      "source": [
        "ice.head()"
      ]
    },
    {
      "cell_type": "markdown",
      "metadata": {
        "id": "r5ugGB-RcRox"
      },
      "source": [
        "And we can get some summary statistics from the numerical attributes:"
      ]
    },
    {
      "cell_type": "code",
      "execution_count": null,
      "metadata": {
        "id": "N8gGX1vfcRox"
      },
      "outputs": [],
      "source": [
        "ice.describe()"
      ]
    },
    {
      "cell_type": "markdown",
      "metadata": {
        "id": "HGD5MmLwcRox"
      },
      "source": [
        "::: callout-warning\n",
        "\n",
        "Did we receive a negative mean for `extent` and `area`? What this could possibly mean? Probably, inspecting those attributes visually could give us a clue.\n",
        "\n",
        ":::"
      ]
    },
    {
      "cell_type": "markdown",
      "metadata": {
        "id": "Mbqk2ha9cRox"
      },
      "source": [
        "### Data visualisation to explore data\n",
        "\n",
        "We will use Seaborn's `lmplot()` function to explore linear relationship of different forms, e.g. relationship between the `month` of the `year` (variable) and `extent` (responses):"
      ]
    },
    {
      "cell_type": "code",
      "execution_count": null,
      "metadata": {
        "id": "koALVE07cRoy"
      },
      "outputs": [],
      "source": [
        "import matplotlib.pyplot as plt\n",
        "import numpy as np\n",
        "import pandas as pd\n",
        "import seaborn as sns"
      ]
    },
    {
      "cell_type": "code",
      "execution_count": null,
      "metadata": {
        "id": "URdZ7y8NcRoy"
      },
      "outputs": [],
      "source": [
        "# Visualize the data\n",
        "plt.scatter(ice.mo, ice.extent, color = 'red')\n",
        "plt.xlabel('Year')\n",
        "plt.ylabel('Extent')"
      ]
    },
    {
      "cell_type": "markdown",
      "metadata": {
        "id": "lpIwxs1qcRoy"
      },
      "source": [
        "::: callout-warning\n",
        "\n",
        "We detect some outlier or missing data. This might have to do with those negative mean values that we detected previously.\n",
        "\n",
        ":::\n",
        "\n",
        "We can use numpy's function [`np.unique()`](https://numpy.org/doc/stable/reference/generated/numpy.unique.html) to find the unique elements of an array."
      ]
    },
    {
      "cell_type": "code",
      "execution_count": null,
      "metadata": {
        "id": "1xtkpo13cRoy"
      },
      "outputs": [],
      "source": [
        "print ('Different values in data_type field:', np.unique(ice.data_type.values))   # there is a -9999 value!"
      ]
    },
    {
      "cell_type": "markdown",
      "metadata": {
        "id": "QuwQMtZacRoy"
      },
      "source": [
        "Let's see what type of data we have, other than the ones printed above"
      ]
    },
    {
      "cell_type": "code",
      "execution_count": null,
      "metadata": {
        "id": "DR7ElMWicRoy"
      },
      "outputs": [],
      "source": [
        "ice[(ice.data_type != 'Goddard') & (ice.data_type != 'NRTSI-G')]"
      ]
    },
    {
      "cell_type": "markdown",
      "metadata": {
        "id": "7wt3L_HfcRoy"
      },
      "source": [
        "### Data cleaning\n",
        "\n",
        "We checked all the values and notice `-9999` values in data_type field which should contain `Goddard` or `NRTSI-G` (some type of input dataset).\n",
        "\n",
        "In this case, we will clean them by creating a _copy_ of the original dataframe that does not include these instances.\n",
        "\n",
        "::: callout-important\n",
        "\n",
        "### Dataframe copies vs instances\n",
        "\n",
        "Unless we do not explicitly create a copy of a dataframe, when subsetting a dataframes we are actually creating instances. Whereas copies are totally independent objects from the original one, instances are reduced \"views\" from the original, meaning that if we change a value on the instance, we are also changing the value on the original data frame, which may not be what we wanted to do.\n",
        "\n",
        "An explanation of how (and why) do we need to create copies can be found here: <https://www.statology.org/pandas-copy-dataframe/>\n",
        "\n",
        ":::"
      ]
    },
    {
      "cell_type": "code",
      "execution_count": null,
      "metadata": {
        "id": "h3cNy_zUcRoy"
      },
      "outputs": [],
      "source": [
        "# We can easily clean the data now:\n",
        "ice2 = ice[ice.data_type != '-9999'].copy()\n",
        "\n",
        "print ('shape:', ice2.shape)"
      ]
    },
    {
      "cell_type": "code",
      "execution_count": null,
      "metadata": {
        "id": "3Ec5e04scRoz"
      },
      "outputs": [],
      "source": [
        "# And repeat the plot, without the outliers\n",
        "plt.scatter(ice2.mo, ice2.extent, color = 'red')\n",
        "plt.xlabel('Month')\n",
        "plt.ylabel('Extent')"
      ]
    },
    {
      "cell_type": "code",
      "execution_count": null,
      "metadata": {
        "id": "GhzCM_mQcRoz"
      },
      "outputs": [],
      "source": [
        "#| column: page-right\n",
        "\n",
        "#here is the same plot but using the seaborn library. A transition to the Seaborn plot we have in the next cell.\n",
        "\n",
        "#sns.relplot(ice2, x = \"mo\", y = \"extent\", aspect = 2)"
      ]
    },
    {
      "cell_type": "markdown",
      "metadata": {
        "id": "dstweGQscRoz"
      },
      "source": [
        "## Regression model fit\n",
        "\n",
        "Now that we have a clean dataset, we can use Seaborn's [`lmplot()`](https://seaborn.pydata.org/generated/seaborn.lmplot.html) function comparing month vs extent.\n",
        "\n",
        "The `lmplot()` function from the Seaborn module is intended for exploring linear relationships of different forms in multidimensional datesets. Input data must be in a Pandas DataFrame. To plot them, we provide the predictor (`mo`) and response (`extent`) variable names along with the dataset (`ice2`)."
      ]
    },
    {
      "cell_type": "code",
      "execution_count": null,
      "metadata": {
        "id": "6XIjFFnecRoz"
      },
      "outputs": [],
      "source": [
        "#| column: page-right\n",
        "\n",
        "sns.lmplot(ice2, x = \"mo\", y = \"extent\", aspect=2);\n",
        "\n",
        "# Uncomment below to save the resulting plot.\n",
        "#plt.savefig(\"figs/CleanedByMonth.png\", dpi = 300, bbox_inches = 'tight')"
      ]
    },
    {
      "cell_type": "markdown",
      "metadata": {
        "id": "YD4GBKaFcRoz"
      },
      "source": [
        "Above you can see ice extent data by month.\n",
        "You can see a monthly fluctuation of the sea ice extent, as would be expected for the different seasons of the year. In order to run regression, and avoid this fluctuation we can normalize data. This will let us see the evolution of the extent over the years."
      ]
    },
    {
      "cell_type": "markdown",
      "metadata": {
        "id": "a4dqNXQFcRoz"
      },
      "source": [
        "### Normalization\n"
      ]
    },
    {
      "cell_type": "code",
      "execution_count": null,
      "metadata": {
        "id": "RlBjOjEVcRoz"
      },
      "outputs": [],
      "source": [
        "# Compute the mean for each month.\n",
        "month_means = ice2.groupby('mo').extent.mean()\n",
        "\n",
        "# Compute the variance for each month.\n",
        "month_variances = ice2.groupby('mo').extent.var()\n",
        "\n",
        "# Show the values:\n",
        "print('Means:', month_means)\n",
        "print('\\n') # Add a new line between the two prints, so they are easily distinguishible.\n",
        "print ('Variances:',month_variances)"
      ]
    },
    {
      "cell_type": "markdown",
      "metadata": {
        "id": "W2jOhjGIcRoz"
      },
      "source": [
        "To capture variation per month, we can compute mean for the i-th interval of time (using 1979-2014) and subtract it from the set of extent values for that month . This can be converted to a relative pecentage difference by dividing it by the total avareage (1979-2014) and multiplying by 100."
      ]
    },
    {
      "cell_type": "code",
      "execution_count": null,
      "metadata": {
        "id": "BEhdu6HEcRo0"
      },
      "outputs": [],
      "source": [
        "# Let's create a new column to hold these normalised values.\n",
        "ice2['extent_norm'] = np.nan"
      ]
    },
    {
      "cell_type": "code",
      "execution_count": null,
      "metadata": {
        "id": "9fUqVEwOcRo0"
      },
      "outputs": [],
      "source": [
        "# run the following to check what the data types look like:\n",
        "ice2.dtypes\n",
        "ice2.head()"
      ]
    },
    {
      "cell_type": "code",
      "execution_count": null,
      "metadata": {
        "id": "Q4yNDa3zcRo0"
      },
      "outputs": [],
      "source": [
        "# Data normalization loop. Note that we are saving the new computed values into the\n",
        "for i in range(12):\n",
        "    ice2.extent_norm[ice2.mo == i+1] = 100*(ice2.extent[ice2.mo == i+1] - month_means[i+1])/month_means.mean()\n",
        "    #print (\"ice2.extent[ice2.mo == i+1]\", 100*(ice2.extent[ice2.mo == i+1] - month_means[i+1])/month_means.mean())\n",
        "    #print(month_means.mean())"
      ]
    },
    {
      "cell_type": "code",
      "execution_count": null,
      "metadata": {
        "id": "bPaQPr8HcRo0"
      },
      "outputs": [],
      "source": [
        "# let's check if all is in place.\n",
        "ice2.head()"
      ]
    },
    {
      "cell_type": "code",
      "execution_count": null,
      "metadata": {
        "id": "q8mQMwLAcRo0"
      },
      "outputs": [],
      "source": [
        "sns.lmplot(ice2 , x = \"mo\", y = \"extent_norm\", height = 5.2, aspect = 2);\n",
        "#plt.savefig(\"figs/IceExtentNormalizedByMonth.png\", dpi = 300, bbox_inches = 'tight')"
      ]
    },
    {
      "cell_type": "code",
      "execution_count": null,
      "metadata": {
        "id": "HmO-pUV4cRo0"
      },
      "outputs": [],
      "source": [
        "print ('mean:', ice2.extent.mean())\n",
        "print ('var:', ice2.extent.var())"
      ]
    },
    {
      "cell_type": "markdown",
      "metadata": {
        "id": "OTkx1xiFcRo0"
      },
      "source": [
        "Let us consider the entire year"
      ]
    },
    {
      "cell_type": "code",
      "execution_count": null,
      "metadata": {
        "id": "a6pRsSCPcRo0"
      },
      "outputs": [],
      "source": [
        "sns.lmplot(ice2, x = \"year\", y = \"extent\", height = 5.2, aspect = 2);\n",
        "#plt.savefig(\"figs/IceExtentAllMonthsByYearlmplot.png\", dpi = 300, bbox_inches = 'tight')"
      ]
    },
    {
      "cell_type": "markdown",
      "metadata": {
        "id": "TE16eOufcRo0"
      },
      "source": [
        "::: callout-caution\n",
        "## Important Do-it-Yourself Moment\n",
        "\n",
        "A question here! Would you like to use the variable `extent` or `extent_norm` here. What would this decision change? Reflect on this, or better, try out the above with different versions of the data. Note observations.\n",
        "\n",
        ":::"
      ]
    },
    {
      "cell_type": "markdown",
      "metadata": {
        "id": "PqAeWOMQcRo0"
      },
      "source": [
        "### Pearson's correlation"
      ]
    },
    {
      "cell_type": "markdown",
      "metadata": {
        "id": "Gdr6Dx9pcRo1"
      },
      "source": [
        "Let's calculate Pearson's correlation coefficient and the p-value for testing non-correlation."
      ]
    },
    {
      "cell_type": "code",
      "execution_count": null,
      "metadata": {
        "id": "RBEAm3QmcRo1"
      },
      "outputs": [],
      "source": [
        "import scipy.stats\n",
        "scipy.stats.pearsonr(ice2.year.values, ice2.extent.values)"
      ]
    },
    {
      "cell_type": "markdown",
      "metadata": {
        "id": "BsEJxTKRcRo1"
      },
      "source": [
        "### Simple OLS\n",
        "\n",
        "We can also compute the trend as a simple linear regression (OLS) and quantitatively evaluate it.\n",
        "\n",
        "For that we use using **Scikit-learn**, library that provides a variety of both supervised and unsupervised machine learning techniques.\n",
        "Scikit-learn provides an object-oriented interface centered around the concept of an Estimator.\n",
        "The <code>Estimator.fit</code> method sets the state of the estimator based on the training data. Usually, the data is comprised of a two-dimensional numpy array $X$ of shape <code>(n_samples, n_predictors)</code> that holds the so-called feature matrix and a one-dimensional numpy array $\\textbf{y}$ that holds the responses. Some estimators allow the user to control the fitting behavior.\n",
        "For example, the <code>sklearn.linear_model.LinearRegression</code> estimator allows the user to specify whether or not to fit an intercept term. This is done by setting the corresponding constructor arguments of the estimator object.\n",
        "During the fitting process, the state of the estimator is stored in instance attributes that have a trailing underscore (`_`). For example, the coefficients of a LinearRegression estimator are stored in the attribute `coef_`.\n",
        "\n",
        "Estimators that can generate predictions provide a `Estimator.predict` method.\n",
        "In the case of regression, `Estimator.predict` will return the predicted regression values, $\\hat{\\textbf{y}}$."
      ]
    },
    {
      "cell_type": "code",
      "execution_count": null,
      "metadata": {
        "id": "eAj7LKDOcRo1"
      },
      "outputs": [],
      "source": [
        "from sklearn.linear_model import LinearRegression\n",
        "\n",
        "est = LinearRegression(fit_intercept = True)\n",
        "\n",
        "x = ice2[['year']]\n",
        "y = ice2[['extent']]\n",
        "\n",
        "est.fit(x, y)\n",
        "\n",
        "print(\"Coefficients:\", est.coef_)\n",
        "print (\"Intercept:\", est.intercept_)"
      ]
    },
    {
      "cell_type": "markdown",
      "metadata": {
        "id": "uypVbmmccRo1"
      },
      "source": [
        "We can evaluate the model fitting by computing the mean squared error ($MSE$) and the coefficient of determination ($R^2$) of the model.\n",
        "The coefficient $R^2$ is defined as $(1 - \\textbf{u}/\\textbf{v})$, where $\\textbf{u}$ is the residual sum of squares $\\sum (\\textbf{y} - \\hat{\\textbf{y}})^2$ and $\\textbf{v}$ is the regression sum of squares $\\sum (\\textbf{y} - \\bar{\\textbf{y}})^2$, where $\\bar{\\textbf{y}}$ is the mean.\n",
        "The best possible score for $R^2$ is 1.0: lower values are worse.\n",
        "These measures can provide a quantitative answer to the question we are facing: Is there a negative trend in the evolution of sea ice extent over recent years?"
      ]
    },
    {
      "cell_type": "code",
      "execution_count": null,
      "metadata": {
        "id": "4Tj4-N1AcRo1"
      },
      "outputs": [],
      "source": [
        "from sklearn import metrics\n",
        "\n",
        "# Analysis for all months together.\n",
        "x = ice2[['year']]\n",
        "y = ice2[['extent']]\n",
        "model = LinearRegression()\n",
        "model.fit(x, y)\n",
        "y_hat = model.predict(x)\n",
        "plt.plot(x, y,'o', alpha = 0.5)\n",
        "plt.plot(x, y_hat, 'r', alpha = 0.5)\n",
        "plt.xlabel('year')\n",
        "plt.ylabel('extent (All months)')\n",
        "print (\"MSE:\", metrics.mean_squared_error(y_hat, y))\n",
        "print (\"R^2:\", metrics.r2_score(y_hat, y))\n",
        "print (\"var:\", y.var())\n",
        "#plt.savefig(\"figs/IceExtentLinearRegressionAllMonthsByYearPrediction.png\", dpi = 300, bbox_inches = 'tight')"
      ]
    },
    {
      "cell_type": "markdown",
      "metadata": {
        "id": "3vlRXEfTcRo1"
      },
      "source": [
        "We can conclude that the data show a long-term negative trend in recent years."
      ]
    },
    {
      "cell_type": "code",
      "execution_count": null,
      "metadata": {
        "id": "FOSbWlRucRo2"
      },
      "outputs": [],
      "source": [
        "# Analysis for a particular month.\n",
        "#For January\n",
        "jan = ice2[ice2.mo == 1];\n",
        "\n",
        "x = jan[['year']]\n",
        "y = jan[['extent']]\n",
        "\n",
        "model = LinearRegression()\n",
        "model.fit(x, y)\n",
        "\n",
        "y_hat = model.predict(x)\n",
        "\n",
        "plt.figure()\n",
        "plt.plot(x, y,'-o', alpha = 0.5)\n",
        "plt.plot(x, y_hat, 'r', alpha = 0.5)\n",
        "plt.xlabel('year')\n",
        "plt.ylabel('extent (January)')\n",
        "\n",
        "print (\"MSE:\", metrics.mean_squared_error(y_hat, y))\n",
        "print (\"R^2:\", metrics.r2_score(y_hat, y))"
      ]
    },
    {
      "cell_type": "markdown",
      "metadata": {
        "id": "p23YoIv1cRo2"
      },
      "source": [
        "We can also estimate the extent value for 2025. For that we use the function predict of the model."
      ]
    },
    {
      "cell_type": "code",
      "execution_count": null,
      "metadata": {
        "id": "QPNQZ4RLcRo2"
      },
      "outputs": [],
      "source": [
        "X = np.array(2025)\n",
        "y_hat = model.predict(X.reshape(-1, 1))\n",
        "j = 1 # January\n",
        "# Original value (before normalization)\n",
        "y_hat = (y_hat*month_means.mean()/100) + month_means[j]\n",
        "print (\"Prediction of extent for January 2025 (in millions of square km):\", y_hat)"
      ]
    },
    {
      "cell_type": "markdown",
      "metadata": {
        "id": "QJIMc56vcRo2"
      },
      "source": [
        "## More information\n",
        "\n",
        "You can find more information about using `scikit` for Linear regression here: <https://www.tutorialspoint.com/scikit_learn/scikit_learn_linear_regression.htm>"
      ]
    }
  ],
  "metadata": {
    "kernelspec": {
      "display_name": "Python 3 (ipykernel)",
      "language": "python",
      "name": "python3"
    },
    "language_info": {
      "codemirror_mode": {
        "name": "ipython",
        "version": 3
      },
      "file_extension": ".py",
      "mimetype": "text/x-python",
      "name": "python",
      "nbconvert_exporter": "python",
      "pygments_lexer": "ipython3",
      "version": "3.12.4"
    },
    "colab": {
      "provenance": [],
      "include_colab_link": true
    }
  },
  "nbformat": 4,
  "nbformat_minor": 0
}